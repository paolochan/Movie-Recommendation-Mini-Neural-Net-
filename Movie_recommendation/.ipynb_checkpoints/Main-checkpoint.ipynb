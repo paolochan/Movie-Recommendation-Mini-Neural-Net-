{
 "cells": [
  {
   "cell_type": "code",
   "execution_count": null,
   "id": "b38c9a4d-8eb6-4aa7-abcd-28f36e75727e",
   "metadata": {
    "tags": []
   },
   "outputs": [
    {
     "name": "stderr",
     "output_type": "stream",
     "text": [
      "[nltk_data] Downloading package punkt to /Users/paolochan/nltk_data...\n",
      "[nltk_data]   Package punkt is already up-to-date!\n"
     ]
    }
   ],
   "source": [
    "import pandas as pd\n",
    "import numpy as np\n",
    "from sklearn.preprocessing import MultiLabelBinarizer, MinMaxScaler\n",
    "from sklearn.model_selection import train_test_split\n",
    "from gensim.models import Word2Vec\n",
    "import nltk\n",
    "nltk.download('punkt')\n",
    "from nltk.tokenize import word_tokenize\n",
    "from sklearn.preprocessing import OneHotEncoder\n",
    "from collections import Counter\n",
    "import tensorflow as tf\n",
    "\n",
    "\n",
    "\n",
    "\n"
   ]
  },
  {
   "cell_type": "code",
   "execution_count": null,
   "id": "ee44cf37-f841-4582-ade2-10b7bb0822b0",
   "metadata": {
    "tags": []
   },
   "outputs": [],
   "source": [
    "## Part one: Gathering data\n",
    "\n",
    "#movies\n",
    "df_movies = pd.read_csv(\"imdb_top_1000.csv\")  # or whatever your filename is\n",
    "df_movies[\"Series_Title\"].head()\n",
    "\n",
    "#Synthetic user data\n",
    "np.random.seed(12)\n",
    "user_ratings = {title: np.round(np.random.uniform(0.0, 1.0), 2) for title in df_movies['Series_Title']}\n",
    "\n",
    "# Assign to DataFrame\n",
    "df_movies['User_Rating'] = df_movies['Series_Title'].map(user_ratings)"
   ]
  },
  {
   "cell_type": "code",
   "execution_count": null,
   "id": "4ea04014-9762-4f07-9f5a-9b962441ff5c",
   "metadata": {},
   "outputs": [],
   "source": [
    "## Step 2: preprocessing data\n",
    "\n",
    "## Cleaning \n",
    "df_movies= df_movies.drop([\"Gross\", \"Poster_Link\", \"Certificate\", \"No_of_Votes\",\"Meta_score\",\"Runtime\"], axis=1) ## Drop data we don't want to use\n",
    "df_movies[\"Series_Title\"]= df_movies[\"Series_Title\"].str.lower().str.strip() \n",
    "df_movies[\"Genre\"]= df_movies[\"Genre\"].str.lower().str.strip()\n",
    "df_movies['Genre_List'] = df_movies['Genre'].str.split(', ') #splitting genres into a list instead of string\n",
    "\n",
    "## Merge the actors into one list \n",
    "df_movies[\"Stars\"] = df_movies.apply(\n",
    "    lambda row: [\n",
    "        str(row[\"Star1\"]).lower().strip(),\n",
    "        str(row[\"Star2\"]).lower().strip(),\n",
    "        str(row[\"Star3\"]).lower().strip(),\n",
    "        str(row[\"Star4\"]).lower().strip()\n",
    "    ], axis=1\n",
    ")\n",
    "actor_counts = Counter(actor for sublist in df_movies['Stars'] for actor in sublist) # count actor instances\n",
    "\n",
    "top_actors = [actor for actor, count in actor_counts.items() if count >= 3]  # top actors appear more than 5 times\n",
    "# Keep only top actors in each movie\n",
    "def filter_top_actors(stars_list):\n",
    "    return [actor for actor in stars_list if actor in top_actors]\n",
    "df_movies['Stars'] = df_movies['Stars'].apply(filter_top_actors)\n",
    "\n",
    "#Normalize IMDB rating \n",
    "scaler = MinMaxScaler()\n",
    "df_movies['Nrating']= scaler.fit_transform(df_movies[['IMDB_Rating']])\n",
    "\n",
    "\n",
    "#Encoding \n",
    "\n",
    "#encoding genres\n",
    "mlb = MultiLabelBinarizer()\n",
    "##mlb.fit_transform([df_movies['Genre_List']])\n",
    "genre_encoded = pd.DataFrame(\n",
    "    mlb.fit_transform(df_movies['Genre_List']), columns=mlb.classes_, index=df_movies['Series_Title'])\n",
    "\n",
    "#Encoding Director\n",
    "top_25_directors = df_movies['Director'].value_counts().nlargest(25).index\n",
    "df_movies['Director'] = df_movies['Director'].where(df_movies['Director'].isin(top_25_directors), 'Other')\n",
    "ohe = OneHotEncoder(sparse=False)\n",
    "director_encoded= pd.DataFrame(ohe.fit_transform(df_movies[['Director']]),columns=ohe.get_feature_names_out(['Director']),index=df_movies['Series_Title'])\n",
    "\n",
    "#Encoding actors\n",
    "mlba = MultiLabelBinarizer()\n",
    "actor_encoded = pd.DataFrame(mlba.fit_transform(df_movies['Stars']), columns= mlba.classes_, index= df_movies['Series_Title'])\n",
    "\n",
    "\n",
    "\n",
    "#Tokenizing and Embedding of overview\n",
    "df_movies['tokens'] = df_movies['Overview'].fillna('').apply(word_tokenize)\n",
    "\n",
    "w2v_model = Word2Vec(sentences=df_movies[\"tokens\"], vector_size=100, window=5, min_count=2, workers=4)\n",
    "def average_vector(tokens) :\n",
    "    vectors = [w2v_model.wv[word] for word in tokens if word in w2v_model.wv]\n",
    "    return np.mean(vectors, axis=0) if vectors else np.zeros(w2v_model.vector_size)\n",
    "df_movies['overview_vector'] = df_movies['tokens'].apply(average_vector)\n",
    "\n",
    "X = np.hstack([\n",
    "    genre_encoded.values,\n",
    "    actor_encoded.values,\n",
    "    director_encoded.values,\n",
    "    np.vstack(df_movies['overview_vector']),\n",
    "    df_movies[['Nrating']].values\n",
    "])\n",
    "y=df_movies['User_Rating'].values\n",
    "\n",
    "\n",
    "\n"
   ]
  },
  {
   "cell_type": "code",
   "execution_count": null,
   "id": "8cad7967-dbaf-4dd1-b47d-6993701c31f4",
   "metadata": {},
   "outputs": [],
   "source": [
    "\n",
    "\n",
    "X_train, X_test, y_train, y_test = train_test_split(\n",
    "    X, y, test_size=0.2, random_state=12\n",
    ")\n"
   ]
  },
  {
   "cell_type": "code",
   "execution_count": null,
   "id": "bdf7a935-cd8e-47a1-8df5-8cae48808ec0",
   "metadata": {},
   "outputs": [],
   "source": [
    "#Using Keras to make a neural network\n",
    "\n",
    "model = model.sequential"
   ]
  }
 ],
 "metadata": {
  "kernelspec": {
   "display_name": "Python 3 (ipykernel)",
   "language": "python",
   "name": "python3"
  },
  "language_info": {
   "codemirror_mode": {
    "name": "ipython",
    "version": 3
   },
   "file_extension": ".py",
   "mimetype": "text/x-python",
   "name": "python",
   "nbconvert_exporter": "python",
   "pygments_lexer": "ipython3",
   "version": "3.9.21"
  }
 },
 "nbformat": 4,
 "nbformat_minor": 5
}
